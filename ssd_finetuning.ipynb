{
  "nbformat": 4,
  "nbformat_minor": 0,
  "metadata": {
    "colab": {
      "name": "ssd_finetuning",
      "provenance": [],
      "collapsed_sections": [],
      "include_colab_link": true
    },
    "kernelspec": {
      "name": "python3",
      "display_name": "Python 3"
    },
    "accelerator": "GPU"
  },
  "cells": [
    {
      "cell_type": "markdown",
      "metadata": {
        "id": "view-in-github",
        "colab_type": "text"
      },
      "source": [
        "<a href=\"https://colab.research.google.com/github/cedro3/pytorch_ssd/blob/main/ssd_finetuning.ipynb\" target=\"_parent\"><img src=\"https://colab.research.google.com/assets/colab-badge.svg\" alt=\"Open In Colab\"/></a>"
      ]
    },
    {
      "cell_type": "markdown",
      "metadata": {
        "id": "S9R1VAuvu6G4"
      },
      "source": [
        "# セットアップ"
      ]
    },
    {
      "cell_type": "code",
      "metadata": {
        "id": "RKRA7GGjrR94"
      },
      "source": [
        "# PyTorchバージョン変更\n",
        "! pip install torch==1.5.0+cu101 torchvision==0.6.0+cu101 -f https://download.pytorch.org/whl/torch_stable.html\n",
        "\n",
        "# github からコードをコピー\n",
        "! git clone https://github.com/cedro3/pytorch_ssd.git\n",
        "%cd pytorch_ssd\n",
        "\n",
        "# 学習済みパラメータをダウンロード\n",
        "! wget -P weights https://s3.amazonaws.com/amdegroot-models/ssd300_mAP_77.43_v2.pth"
      ],
      "execution_count": null,
      "outputs": []
    },
    {
      "cell_type": "code",
      "metadata": {
        "id": "MWiT-KkSbusd"
      },
      "source": [
        "# GPUの種類確認\n",
        "! nvidia-smi -L"
      ],
      "execution_count": null,
      "outputs": []
    },
    {
      "cell_type": "markdown",
      "metadata": {
        "id": "-ijHZtGRZdnO"
      },
      "source": [
        "# 学習済みモデルによる物体検出（VOCクラス）"
      ]
    },
    {
      "cell_type": "code",
      "metadata": {
        "id": "HJuSHO1LYKaW"
      },
      "source": [
        "import os\n",
        "import sys\n",
        "module_path = os.path.abspath(os.path.join('..'))\n",
        "if module_path not in sys.path:\n",
        "    sys.path.append(module_path)\n",
        " \n",
        "import torch\n",
        "import torch.nn as nn\n",
        "from torch.autograd import Variable\n",
        "import numpy as np\n",
        "import cv2\n",
        "from ssd import build_ssd\n",
        "from matplotlib import pyplot as plt\n",
        "from data import VOC_CLASSES as voc_labels\n",
        "\n",
        "# GPUの設定\n",
        "torch.cuda.is_available() \n",
        "torch.set_default_tensor_type('torch.cuda.FloatTensor')  \n",
        "device = 'cuda' if torch.cuda.is_available() else 'cpu' \n",
        "\n",
        "# SSDネットワークを定義し、学習済みパラメータを読み込む\n",
        "net = build_ssd('test', 300, 21)   \n",
        "net.load_weights('./weights/ssd300_mAP_77.43_v2.pth')\n",
        "net = net.to(device)\n",
        "\n",
        "# 物体検出関数 \n",
        "def detect(image, labels):\n",
        "\n",
        "    # 画像を(1,3,300,300)のテンソルに変換\n",
        "    rgb_image = cv2.cvtColor(image, cv2.COLOR_BGR2RGB)\n",
        "    x = cv2.resize(image, (300, 300)).astype(np.float32)  \n",
        "    x -= (104.0, 117.0, 123.0)\n",
        "    x = x.astype(np.float32)\n",
        "    x = x[:, :, ::-1].copy()\n",
        "    x = torch.from_numpy(x).permute(2, 0, 1)  \n",
        "    xx = Variable(x.unsqueeze(0))    \n",
        "     \n",
        "    # 順伝播を実行し、推論結果を出力\n",
        "    if torch.cuda.is_available():\n",
        "      xx = xx.cuda()\n",
        "    y = net(xx)\n",
        "\n",
        "    # 表示設定 \n",
        "    plt.figure(figsize=(8,8))\n",
        "    colors = plt.cm.hsv(np.linspace(0, 1, 21)).tolist()\n",
        "    plt.imshow(rgb_image)\n",
        "    currentAxis = plt.gca()\n",
        "\n",
        "    # 推論結果をdetectionsに格納\n",
        "    detections = y.data\n",
        "    # 各検出のスケールのバックアップ\n",
        "    scale = torch.Tensor(rgb_image.shape[1::-1]).repeat(2)\n",
        "    \n",
        "    # バウンディングボックスとクラス名を表示\n",
        "    for i in range(detections.size(1)):\n",
        "        j = 0\n",
        "        # 確信度confが0.6以上のボックスを表示\n",
        "        # jは確信度上位200件のボックスのインデックス\n",
        "        # detections[0,i,j]は[conf,xmin,ymin,xmax,ymax]の形状\n",
        "        while detections[0,i,j,0] >= 0.6:\n",
        "            score = detections[0,i,j,0]\n",
        "            label_name = labels[i-1]\n",
        "            display_txt = '%s: %.2f'%(label_name, score)\n",
        "            pt = (detections[0,i,j,1:]*scale).cpu().numpy()\n",
        "            coords = (pt[0], pt[1]), pt[2]-pt[0]+1, pt[3]-pt[1]+1\n",
        "            color = colors[i]\n",
        "            currentAxis.add_patch(plt.Rectangle(*coords, fill=False, edgecolor=color, linewidth=2))\n",
        "            currentAxis.text(pt[0], pt[1], display_txt, bbox={'facecolor':color, 'alpha':0.5})\n",
        "            j+=1\n",
        "    plt.show()\n",
        "    plt.close()\n",
        "    return detections\n",
        "\n",
        "# 物体検出実行\n",
        "file = './data/person.jpg'\n",
        "image = cv2.imread(file, cv2.IMREAD_COLOR) \n",
        "detections = detect(image, voc_labels)\n",
        "\n",
        "# 推論結果の生データのシェイプを表示\n",
        "print('detections.shape = ', detections.shape)"
      ],
      "execution_count": null,
      "outputs": []
    },
    {
      "cell_type": "code",
      "metadata": {
        "id": "P30CXhZG9IH0"
      },
      "source": [
        "# 推論結果の内容表示\n",
        "print('dog')\n",
        "print(detections[0][12][:6])\n",
        "print('person')\n",
        "print(detections[0][15][:6])\n",
        "print('horse')\n",
        "print(detections[0][13][:6])"
      ],
      "execution_count": null,
      "outputs": []
    },
    {
      "cell_type": "markdown",
      "metadata": {
        "id": "Jtz72g1W6EvH"
      },
      "source": [
        "# データセットBCCDの確認"
      ]
    },
    {
      "cell_type": "code",
      "metadata": {
        "id": "Qch3CTR-grrF"
      },
      "source": [
        "# BCCDデータの読み込み\n",
        "from data import VOCDetection, VOC_ROOT, VOCAnnotationTransform\n",
        "testset = VOCDetection(VOC_ROOT, [('BCCD', 'test')], None, VOCAnnotationTransform())\n",
        "\n",
        "# 10番目を指定\n",
        "img_id = 10  \n",
        "\n",
        "# 画像表示\n",
        "image = testset.pull_image(img_id)\n",
        "img = cv2.cvtColor(image, cv2.COLOR_BGR2RGB)\n",
        "plt.imshow(img)\n",
        "plt.show()\n",
        "\n",
        "# アノテーション 表示\n",
        "anotation = testset.pull_anno(img_id)\n",
        "print('name = ', anotation[0])\n",
        "print('num = ', len(anotation[1]))\n",
        "for i in range(len(anotation[1])):\n",
        "     print(anotation[1][i])"
      ],
      "execution_count": null,
      "outputs": []
    },
    {
      "cell_type": "markdown",
      "metadata": {
        "id": "Byf3Z27lO1M6"
      },
      "source": [
        "# 学習済みモデルをファインチューニング\n"
      ]
    },
    {
      "cell_type": "code",
      "metadata": {
        "id": "-DSbT_E5rx9V"
      },
      "source": [
        "from data import *\n",
        "from utils.augmentations import SSDAugmentation\n",
        "from layers.modules import MultiBoxLoss\n",
        "from ssd import build_ssd\n",
        "import os\n",
        "import sys\n",
        "import time\n",
        "import torch\n",
        "import torch.nn as nn\n",
        "import torch.optim as optim\n",
        "import torch.backends.cudnn as cudnn\n",
        "import torch.nn.init as init\n",
        "import torch.utils.data as data\n",
        "import numpy as np\n",
        "import argparse\n",
        "import warnings  \n",
        "warnings.filterwarnings('ignore')  \n",
        "\n",
        "# 初期設定\n",
        "args = {'dataset':'BCCD',   \n",
        "        'basenet':'vgg16_reducedfc.pth',\n",
        "        'batch_size':32,\n",
        "        'resume':'ssd300_mAP_77.43_v2.pth',\n",
        "        'max_iter':500,\n",
        "        'num_workers':4,  \n",
        "        'cuda':True,\n",
        "        'lr':0.001,\n",
        "        'lr_steps':(8000, 10000, 12000),  \n",
        "        'momentum':0.9,\n",
        "        'weight_decay':5e-4,\n",
        "        'gamma':0.1,\n",
        "        'save_folder':'weights/'\n",
        "       }\n",
        "\n",
        "# Tensor作成時のデフォルトにGPU Tensorを設定\n",
        "if torch.cuda.is_available():\n",
        "    if args['cuda']:\n",
        "        torch.set_default_tensor_type('torch.cuda.FloatTensor')\n",
        "    if not args['cuda']:\n",
        "        print(\"WARNING: It looks like you have a CUDA device, but aren't \" +\n",
        "              \"using CUDA.\\nRun with --cuda for optimal training speed.\")\n",
        "        torch.set_default_tensor_type('torch.FloatTensor')\n",
        "else:\n",
        "    torch.set_default_tensor_type('torch.FloatTensor')\n",
        "\n",
        "# 訓練データの設定\n",
        "cfg = voc\n",
        "dataset = VOCDetection(root=VOC_ROOT,\n",
        "                       transform=SSDAugmentation(cfg['min_dim'],\n",
        "                                                 MEANS))\n",
        "\n",
        "# ネットワークの定義\n",
        "ssd_net = build_ssd('train', cfg['min_dim'], cfg['num_classes'])\n",
        "device = 'cuda' if torch.cuda.is_available() else 'cpu'\n",
        "net = ssd_net.to(device)\n",
        "\n",
        "# 学習済みパラメータのロード\n",
        "if args['resume']:\n",
        "    print('Resuming training, loading {}...'.format(args['resume']))\n",
        "    ssd_net.load_weights(args['save_folder'] + args['resume'])  \n",
        "else:\n",
        "    vgg_weights = torch.load(args['save_folder'] + args['basenet'])\n",
        "    print('Loading base network...')\n",
        "    ssd_net.vgg.load_state_dict(vgg_weights)\n",
        "\n",
        "# GPU設定\n",
        "if args['cuda']:\n",
        "    net = torch.nn.DataParallel(ssd_net)\n",
        "    cudnn.benchmark = True\n",
        "\n",
        "# learning_rate の段階調整関数\n",
        "def adjust_learning_rate(optimizer, gamma, step):\n",
        "    lr = args['lr'] * (gamma ** (step))\n",
        "    for param_group in optimizer.param_groups:\n",
        "        param_group['lr'] = lr\n",
        "\n",
        "# xavierの初期化関数\n",
        "def xavier(param):\n",
        "    init.xavier_uniform_(param)\n",
        "\n",
        "# パラメータ初期化関数\n",
        "def weights_init(m):\n",
        "    if isinstance(m, nn.Conv2d):\n",
        "        xavier(m.weight.data)\n",
        "        m.bias.data.zero_()\n",
        "\n",
        "# 新規学習時のパラメータ初期化\n",
        "if not args['resume']:\n",
        "    print('Initializing weights...')\n",
        "    ssd_net.extras.apply(weights_init)\n",
        "    ssd_net.loc.apply(weights_init)\n",
        "    ssd_net.conf.apply(weights_init)\n",
        "\n",
        "# 損失関数の設定\n",
        "criterion = MultiBoxLoss(cfg['num_classes'], 0.5, True, 0, True, 3, 0.5,\n",
        "                         False, args['cuda'])\n",
        "\n",
        "# 最適化手法の設定\n",
        "optimizer = optim.SGD(net.parameters(), lr=args['lr'], momentum=args['momentum'],\n",
        "                      weight_decay=args['weight_decay'])\n",
        "\n",
        "# 訓練モード\n",
        "net.train()\n",
        "\n",
        "# データローダの設定\n",
        "data_loader = data.DataLoader(dataset, args['batch_size'],\n",
        "                              num_workers=args['num_workers'],\n",
        "                              shuffle=True, collate_fn=detection_collate,\n",
        "                              pin_memory=True)\n",
        "# 学習ループ\n",
        "step_index = 0\n",
        "batch_iterator = None\n",
        "epoch_size = len(dataset) // args['batch_size']\n",
        "\n",
        "for iteration in range(args['max_iter']):   \n",
        "    if (not batch_iterator) or (iteration % epoch_size ==0):\n",
        "        batch_iterator = iter(data_loader)\n",
        "        loc_loss = 0\n",
        "        conf_loss = 0\n",
        "\n",
        "    # lrの調整\n",
        "    if iteration in args['lr_steps']:\n",
        "        step_index += 1\n",
        "        adjust_learning_rate(optimizer, args['gamma'], step_index)\n",
        "        \n",
        "    # バッチサイズ分のデータをGPUへ\n",
        "    images, targets = next(batch_iterator)\n",
        "    images = images.to(device) \n",
        "    targets = [ann.to(device) for ann in targets]\n",
        "\n",
        "    # 順伝播\n",
        "    t0 = time.time()\n",
        "    out = net(images)\n",
        "\n",
        "    # 逆伝播\n",
        "    optimizer.zero_grad()\n",
        "    loss_l, loss_c = criterion(out, targets)\n",
        "    loss = loss_l + loss_c\n",
        "    loss.backward()\n",
        "    optimizer.step()\n",
        "    t1 = time.time()\n",
        "    loc_loss += loss_l.item()\n",
        "    conf_loss += loss_c.item()\n",
        "    \n",
        "    #ログの出力\n",
        "    if iteration % 10 == 0:\n",
        "        print('timer: %.4f sec.' % (t1 - t0))\n",
        "        print('iter ' + repr(iteration) + ' || Loss: %.4f ||' % (loss.item()), end=' ')\n",
        "\n",
        "# 学習済みモデルの保存\n",
        "torch.save(ssd_net.state_dict(),\n",
        "           args['save_folder'] + '' + args['dataset'] + '.pth')"
      ],
      "execution_count": null,
      "outputs": []
    },
    {
      "cell_type": "markdown",
      "metadata": {
        "id": "7RHtaGqybk1I"
      },
      "source": [
        "# ファインチューニングしたモデルで物体検知（BCCDクラス）\n"
      ]
    },
    {
      "cell_type": "code",
      "metadata": {
        "id": "g9ZAwQsQbdHX"
      },
      "source": [
        "import os\n",
        "import sys\n",
        "import torch\n",
        "import torch.nn as nn\n",
        "import torch.backends.cudnn as cudnn\n",
        "from torch.autograd import Variable\n",
        "import numpy as np\n",
        "import cv2\n",
        "if torch.cuda.is_available():\n",
        "    torch.set_default_tensor_type('torch.cuda.FloatTensor')\n",
        " \n",
        "from ssd import build_ssd\n",
        " \n",
        "# SSDネットワークの定義とパラメータのロード\n",
        "net = build_ssd('test', 300, 21)    \n",
        "net.load_weights('./weights/BCCD.pth')\n",
        " \n",
        "# BCCD_test 読み込み\n",
        "from data import VOCDetection, VOC_ROOT, VOCAnnotationTransform\n",
        "from data import BCCD_CLASSES as bccd_labels\n",
        "testset = VOCDetection(VOC_ROOT, [('BCCD', 'test')], None, VOCAnnotationTransform())\n",
        "\n",
        "# 画像の読み込み\n",
        "img_id = 42  \n",
        "image = testset.pull_image(img_id)\n",
        "\n",
        "# 物体検出\n",
        "detections = detect(image, bccd_labels)"
      ],
      "execution_count": null,
      "outputs": []
    },
    {
      "cell_type": "code",
      "metadata": {
        "id": "CQC6YrK-a8xc"
      },
      "source": [
        "# 画像の読み込み\n",
        "img_id = 55  \n",
        "image = testset.pull_image(img_id)\n",
        "\n",
        "# 物体検出\n",
        "detections = detect(image, bccd_labels)"
      ],
      "execution_count": null,
      "outputs": []
    }
  ]
}